{
 "cells": [
  {
   "cell_type": "code",
   "execution_count": null,
   "metadata": {
    "collapsed": true
   },
   "outputs": [],
   "source": [
    "Categories = {}\n",
    "for filename in os.listdir(\"C:\\\\Users\\\\Billy\\\\Downloads\\\\Bonus Puzzle\\\\Bonus Puzzle\\\\\"):\n",
    "    if \".txt\" in filename:\n",
    "        with open(\"C:\\\\Users\\\\Billy\\\\Downloads\\\\Bonus Puzzle\\\\Bonus Puzzle\\\\\" + filename) as f:\n",
    "            I = f.read()\n",
    "        B = I.split(\"\\t\")\n",
    "        BO = \"\".join(B)\n",
    "        A = BO.split(\"\\n\")\n",
    "        for x in range(1,len(A)-1):\n",
    "            if (A[x][1].upper() == A[x][1]) and (A[x-1][1].upper() != A[x-1][1]):\n",
    "                if A[x-1] not in Categories:\n",
    "                    Categories[A[x-1]] = [A[x]]\n",
    "                elif A[x-1] in Categories:\n",
    "                    Categories[A[x-1]].append(A[x])\n",
    "for cat in Categories:\n",
    "    for x in range(len(Categories[cat])):\n",
    "        NI = []\n",
    "        for y in Categories[cat][x]:\n",
    "            if y not in list(\"ABCDEFGHIJKLMNOPQRSTUVWXYZ \"):\n",
    "                NI.append(y)\n",
    "            for n in NI:\n",
    "                Categories[cat][x] = Categories[cat][x].replace(n,\"\")\n",
    "        Categories[cat][x] = [Categories[cat][x]].split()"
   ]
  }
 ],
 "metadata": {
  "kernelspec": {
   "display_name": "Python 3",
   "language": "python",
   "name": "python3"
  },
  "language_info": {
   "codemirror_mode": {
    "name": "ipython",
    "version": 3
   },
   "file_extension": ".py",
   "mimetype": "text/x-python",
   "name": "python",
   "nbconvert_exporter": "python",
   "pygments_lexer": "ipython3",
   "version": "3.6.1"
  }
 },
 "nbformat": 4,
 "nbformat_minor": 2
}
